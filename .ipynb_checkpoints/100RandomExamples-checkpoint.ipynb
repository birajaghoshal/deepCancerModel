{
 "cells": [
  {
   "cell_type": "code",
   "execution_count": 1,
   "metadata": {
    "collapsed": false,
    "deletable": true,
    "editable": true
   },
   "outputs": [],
   "source": [
    "import numpy as np\n",
    "import math\n",
    "import random\n",
    "from PIL import Image, ImageOps, ImageEnhance\n",
    "import collections\n",
    "import types\n",
    "import new_transforms\n",
    "import os\n",
    "\n",
    "\"\"\"\n",
    "Original code from new_transforms.py\n",
    "\n",
    "Taken directly from https://github.com/pytorch/vision/blob/master/torchvision/transforms.py\n",
    "Latest update that is not currently deployed to pip.\n",
    "All credits to the torchvision developers.\n",
    "\"\"\"\n",
    "\n",
    "# Particulars for this ipython notebook: \n",
    "import matplotlib.pyplot as plt\n",
    "from matplotlib.pyplot import imshow\n",
    "%matplotlib inline\n",
    "\n",
    "dir_lungTilesNormal = \"/beegfs/jmw784/Capstone/LungTilesSorted/Solid_Tissue_Normal/\"\n",
    "dir_lungTilesLUSC = \"/beegfs/jmw784/Capstone/LungTilesSorted/TCGA-LUSC/\"\n",
    "dir_lungTilesLUAD = \"/beegfs/jmw784/Capstone/LungTilesSorted/TCGA-LUAD/\""
   ]
  },
  {
   "cell_type": "markdown",
   "metadata": {
    "deletable": true,
    "editable": true
   },
   "source": [
    "# 100 examples: NORMAL"
   ]
  },
  {
   "cell_type": "code",
   "execution_count": null,
   "metadata": {
    "collapsed": false,
    "deletable": true,
    "editable": true,
    "scrolled": false
   },
   "outputs": [],
   "source": [
    "files_list = os.listdir(dir_lungTilesNormal)\n",
    "\n",
    "cRandomRotate = new_transforms.RandomRotate()\n",
    "cJitter = new_transforms.ColorJitter(brightness=0.25, contrast=0.25, saturation=0.25, hue=0.05)\n",
    "cVerticalFlip = new_transforms.RandomVerticalFlip()\n",
    "\n",
    "for repet in range(0, 100):\n",
    "    random = np.random.randint(0,len(files_list))\n",
    "    image = Image.open(dir_lungTilesNormal + files_list[random])\n",
    "    modified = cRandomRotate(image)\n",
    "    modified = cJitter(modified)\n",
    "    modified = cVerticalFlip(modified)\n",
    "    \n",
    "    f, (ax1, ax2) = plt.subplots(sharex=True, sharey=False, nrows=1, ncols=2)\n",
    "    f.set_figheight(4)\n",
    "    f.set_figwidth(8)\n",
    "    ax1.imshow(np.asarray(image))\n",
    "    ax2.imshow(np.asarray(modified))\n",
    "    ax1.set_title(\"Original\")\n",
    "    ax2.set_title(\"Modified\")"
   ]
  },
  {
   "cell_type": "markdown",
   "metadata": {
    "collapsed": true,
    "deletable": true,
    "editable": true
   },
   "source": [
    "# 100 examples: LUSC"
   ]
  },
  {
   "cell_type": "code",
   "execution_count": null,
   "metadata": {
    "collapsed": false,
    "deletable": true,
    "editable": true
   },
   "outputs": [],
   "source": [
    "files_list = os.listdir(dir_lungTilesLUSC)\n",
    "\n",
    "cRandomRotate = new_transforms.RandomRotate()\n",
    "cJitter = new_transforms.ColorJitter(brightness=0.25, contrast=0.25, saturation=0.25, hue=0.05)\n",
    "cVerticalFlip = new_transforms.RandomVerticalFlip()\n",
    "\n",
    "for repet in range(0, 100):\n",
    "    random = np.random.randint(0,len(files_list))\n",
    "    image = Image.open(dir_lungTilesNormal + files_list[random])\n",
    "    modified = cRandomRotate(image)\n",
    "    modified = cJitter(modified)\n",
    "    modified = cVerticalFlip(modified)\n",
    "    \n",
    "    f, (ax1, ax2) = plt.subplots(sharex=True, sharey=False, nrows=1, ncols=2)\n",
    "    f.set_figheight(4)\n",
    "    f.set_figwidth(8)\n",
    "    ax1.imshow(np.asarray(image))\n",
    "    ax2.imshow(np.asarray(modified))\n",
    "    ax1.set_title(\"Original\")\n",
    "    ax2.set_title(\"Modified\")"
   ]
  },
  {
   "cell_type": "markdown",
   "metadata": {
    "collapsed": true,
    "deletable": true,
    "editable": true
   },
   "source": [
    "# 100 examples: LUAD"
   ]
  },
  {
   "cell_type": "code",
   "execution_count": null,
   "metadata": {
    "collapsed": true
   },
   "outputs": [],
   "source": [
    "files_list = os.listdir(dir_lungTilesLUAD)\n",
    "\n",
    "cRandomRotate = new_transforms.RandomRotate()\n",
    "cJitter = new_transforms.ColorJitter(brightness=0.25, contrast=0.25, saturation=0.25, hue=0.05)\n",
    "cVerticalFlip = new_transforms.RandomVerticalFlip()\n",
    "\n",
    "for repet in range(0, 100):\n",
    "    random = np.random.randint(0,len(files_list))\n",
    "    image = Image.open(dir_lungTilesNormal + files_list[random])\n",
    "    modified = cRandomRotate(image)\n",
    "    modified = cJitter(modified)\n",
    "    modified = cVerticalFlip(modified)\n",
    "    \n",
    "    f, (ax1, ax2) = plt.subplots(sharex=True, sharey=False, nrows=1, ncols=2)\n",
    "    f.set_figheight(4)\n",
    "    f.set_figwidth(8)\n",
    "    ax1.imshow(np.asarray(image))\n",
    "    ax2.imshow(np.asarray(modified))\n",
    "    ax1.set_title(\"Original\")\n",
    "    ax2.set_title(\"Modified\")"
   ]
  }
 ],
 "metadata": {
  "kernelspec": {
   "display_name": "Python 3",
   "language": "python",
   "name": "python3"
  },
  "language_info": {
   "codemirror_mode": {
    "name": "ipython",
    "version": 3
   },
   "file_extension": ".py",
   "mimetype": "text/x-python",
   "name": "python",
   "nbconvert_exporter": "python",
   "pygments_lexer": "ipython3",
   "version": "3.5.3"
  }
 },
 "nbformat": 4,
 "nbformat_minor": 2
}
