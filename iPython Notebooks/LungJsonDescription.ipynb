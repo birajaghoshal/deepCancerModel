{
 "cells": [
  {
   "cell_type": "code",
   "execution_count": 5,
   "metadata": {
    "collapsed": true
   },
   "outputs": [],
   "source": [
    "import json\n",
    "import numpy as np\n",
    "import pandas as pd"
   ]
  },
  {
   "cell_type": "markdown",
   "metadata": {},
   "source": [
    "# Inspect json file"
   ]
  },
  {
   "cell_type": "markdown",
   "metadata": {},
   "source": [
    "#### READ FILE AS.IS"
   ]
  },
  {
   "cell_type": "code",
   "execution_count": 8,
   "metadata": {
    "collapsed": true
   },
   "outputs": [],
   "source": [
    "jsondir = \"/Users/eduardofierro/Google Drive/TercerSemetre/Capstone/DownloadFiles/Lung/\""
   ]
  },
  {
   "cell_type": "code",
   "execution_count": 10,
   "metadata": {
    "collapsed": false
   },
   "outputs": [],
   "source": [
    "with open(jsondir + \"LUNG_metadata.cart.2017-10-06T17-57-09.290314.json\") as data_file:    \n",
    "    json_orig = json.load(data_file)"
   ]
  },
  {
   "cell_type": "code",
   "execution_count": 14,
   "metadata": {
    "collapsed": true
   },
   "outputs": [],
   "source": [
    "json_data = pd.read_json(jsondir + \"LUNG_metadata.cart.2017-10-06T17-57-09.290314.json\")"
   ]
  },
  {
   "cell_type": "code",
   "execution_count": 16,
   "metadata": {
    "collapsed": false
   },
   "outputs": [
    {
     "data": {
      "text/plain": [
       "(2167, 17)"
      ]
     },
     "execution_count": 16,
     "metadata": {},
     "output_type": "execute_result"
    }
   ],
   "source": [
    "json_data.shape"
   ]
  },
  {
   "cell_type": "code",
   "execution_count": 37,
   "metadata": {
    "collapsed": false
   },
   "outputs": [
    {
     "data": {
      "text/html": [
       "<div>\n",
       "<style>\n",
       "    .dataframe thead tr:only-child th {\n",
       "        text-align: right;\n",
       "    }\n",
       "\n",
       "    .dataframe thead th {\n",
       "        text-align: left;\n",
       "    }\n",
       "\n",
       "    .dataframe tbody tr th {\n",
       "        vertical-align: top;\n",
       "    }\n",
       "</style>\n",
       "<table border=\"1\" class=\"dataframe\">\n",
       "  <thead>\n",
       "    <tr style=\"text-align: right;\">\n",
       "      <th></th>\n",
       "      <th>access</th>\n",
       "      <th>annotations</th>\n",
       "      <th>archive</th>\n",
       "      <th>associated_entities</th>\n",
       "      <th>cases</th>\n",
       "      <th>center</th>\n",
       "      <th>data_category</th>\n",
       "      <th>data_format</th>\n",
       "      <th>data_type</th>\n",
       "      <th>file_id</th>\n",
       "      <th>file_name</th>\n",
       "      <th>file_size</th>\n",
       "      <th>md5sum</th>\n",
       "      <th>platform</th>\n",
       "      <th>state</th>\n",
       "      <th>submitter_id</th>\n",
       "      <th>tags</th>\n",
       "    </tr>\n",
       "  </thead>\n",
       "  <tbody>\n",
       "    <tr>\n",
       "      <th>0</th>\n",
       "      <td>open</td>\n",
       "      <td>NaN</td>\n",
       "      <td>{'state': 'live', 'data_format': 'TARGZ', 'md5...</td>\n",
       "      <td>[{'entity_submitter_id': 'TCGA-56-5897-01A-01-...</td>\n",
       "      <td>[{'state': 'live', 'disease_type': 'Lung Squam...</td>\n",
       "      <td>{'center_id': 'a6b3bcf1-9ca6-56e9-8f04-0e3a63e...</td>\n",
       "      <td>Clinical</td>\n",
       "      <td>SVS</td>\n",
       "      <td>Tissue slide image</td>\n",
       "      <td>832dc6cf-3ba3-473b-8b45-bd73025224dd</td>\n",
       "      <td>TCGA-56-5897-01A-01-TS1.360c2b58-7187-4e91-a2e...</td>\n",
       "      <td>52674311</td>\n",
       "      <td>c24c596f008d04715da77eb99424c6be</td>\n",
       "      <td>Clinical</td>\n",
       "      <td>live</td>\n",
       "      <td>NaN</td>\n",
       "      <td>[image]</td>\n",
       "    </tr>\n",
       "    <tr>\n",
       "      <th>1</th>\n",
       "      <td>open</td>\n",
       "      <td>NaN</td>\n",
       "      <td>{'state': 'live', 'data_format': 'TARGZ', 'md5...</td>\n",
       "      <td>[{'entity_submitter_id': 'TCGA-44-2656-11A-01-...</td>\n",
       "      <td>[{'state': 'live', 'disease_type': 'Lung Adeno...</td>\n",
       "      <td>{'center_id': 'a6b3bcf1-9ca6-56e9-8f04-0e3a63e...</td>\n",
       "      <td>Clinical</td>\n",
       "      <td>SVS</td>\n",
       "      <td>Tissue slide image</td>\n",
       "      <td>caeff158-ff4e-4abd-9f6b-423b5f4d0b92</td>\n",
       "      <td>TCGA-44-2656-11A-01-TS1.24d5e405-fb65-4cf7-b58...</td>\n",
       "      <td>107626943</td>\n",
       "      <td>2ed8d521d65a0e9e7fe42f58b2a4cadd</td>\n",
       "      <td>Clinical</td>\n",
       "      <td>live</td>\n",
       "      <td>NaN</td>\n",
       "      <td>[image]</td>\n",
       "    </tr>\n",
       "    <tr>\n",
       "      <th>2</th>\n",
       "      <td>open</td>\n",
       "      <td>NaN</td>\n",
       "      <td>{'state': 'live', 'data_format': 'TARGZ', 'md5...</td>\n",
       "      <td>[{'entity_submitter_id': 'TCGA-66-2769-01A-01-...</td>\n",
       "      <td>[{'state': 'live', 'disease_type': 'Lung Squam...</td>\n",
       "      <td>{'center_id': 'a6b3bcf1-9ca6-56e9-8f04-0e3a63e...</td>\n",
       "      <td>Clinical</td>\n",
       "      <td>SVS</td>\n",
       "      <td>Tissue slide image</td>\n",
       "      <td>fa54d65e-f59e-427e-9516-5542d0631d13</td>\n",
       "      <td>TCGA-66-2769-01A-01-BS1.c5f59bc6-776c-4714-bfd...</td>\n",
       "      <td>99182937</td>\n",
       "      <td>af2d8fa1d16e6cde3069d91ebf39bb5a</td>\n",
       "      <td>Clinical</td>\n",
       "      <td>live</td>\n",
       "      <td>NaN</td>\n",
       "      <td>[image]</td>\n",
       "    </tr>\n",
       "    <tr>\n",
       "      <th>3</th>\n",
       "      <td>open</td>\n",
       "      <td>NaN</td>\n",
       "      <td>{'state': 'live', 'data_format': 'TARGZ', 'md5...</td>\n",
       "      <td>[{'entity_submitter_id': 'TCGA-77-8009-01A-01-...</td>\n",
       "      <td>[{'state': 'live', 'disease_type': 'Lung Squam...</td>\n",
       "      <td>{'center_id': 'a6b3bcf1-9ca6-56e9-8f04-0e3a63e...</td>\n",
       "      <td>Clinical</td>\n",
       "      <td>SVS</td>\n",
       "      <td>Tissue slide image</td>\n",
       "      <td>5d8ec7c3-b4ce-4234-811b-970ce8f9b3d6</td>\n",
       "      <td>TCGA-77-8009-01A-01-BS1.9f34e43f-a79d-42e3-938...</td>\n",
       "      <td>64501505</td>\n",
       "      <td>56b28f87c140248b8388f1beb16e59da</td>\n",
       "      <td>Clinical</td>\n",
       "      <td>live</td>\n",
       "      <td>NaN</td>\n",
       "      <td>[image]</td>\n",
       "    </tr>\n",
       "    <tr>\n",
       "      <th>4</th>\n",
       "      <td>open</td>\n",
       "      <td>NaN</td>\n",
       "      <td>{'state': 'live', 'data_format': 'TARGZ', 'md5...</td>\n",
       "      <td>[{'entity_submitter_id': 'TCGA-22-5482-11A-01-...</td>\n",
       "      <td>[{'state': 'live', 'disease_type': 'Lung Squam...</td>\n",
       "      <td>{'center_id': 'a6b3bcf1-9ca6-56e9-8f04-0e3a63e...</td>\n",
       "      <td>Clinical</td>\n",
       "      <td>SVS</td>\n",
       "      <td>Tissue slide image</td>\n",
       "      <td>435bd7a3-6a49-4379-92fd-582abf3e2198</td>\n",
       "      <td>TCGA-22-5482-11A-01-TS1.d3a36849-353b-4b5e-85e...</td>\n",
       "      <td>119027213</td>\n",
       "      <td>2a3e8c0a22ed3db3143a79867659bf80</td>\n",
       "      <td>Clinical</td>\n",
       "      <td>live</td>\n",
       "      <td>NaN</td>\n",
       "      <td>[image]</td>\n",
       "    </tr>\n",
       "  </tbody>\n",
       "</table>\n",
       "</div>"
      ],
      "text/plain": [
       "  access annotations                                            archive  \\\n",
       "0   open         NaN  {'state': 'live', 'data_format': 'TARGZ', 'md5...   \n",
       "1   open         NaN  {'state': 'live', 'data_format': 'TARGZ', 'md5...   \n",
       "2   open         NaN  {'state': 'live', 'data_format': 'TARGZ', 'md5...   \n",
       "3   open         NaN  {'state': 'live', 'data_format': 'TARGZ', 'md5...   \n",
       "4   open         NaN  {'state': 'live', 'data_format': 'TARGZ', 'md5...   \n",
       "\n",
       "                                 associated_entities  \\\n",
       "0  [{'entity_submitter_id': 'TCGA-56-5897-01A-01-...   \n",
       "1  [{'entity_submitter_id': 'TCGA-44-2656-11A-01-...   \n",
       "2  [{'entity_submitter_id': 'TCGA-66-2769-01A-01-...   \n",
       "3  [{'entity_submitter_id': 'TCGA-77-8009-01A-01-...   \n",
       "4  [{'entity_submitter_id': 'TCGA-22-5482-11A-01-...   \n",
       "\n",
       "                                               cases  \\\n",
       "0  [{'state': 'live', 'disease_type': 'Lung Squam...   \n",
       "1  [{'state': 'live', 'disease_type': 'Lung Adeno...   \n",
       "2  [{'state': 'live', 'disease_type': 'Lung Squam...   \n",
       "3  [{'state': 'live', 'disease_type': 'Lung Squam...   \n",
       "4  [{'state': 'live', 'disease_type': 'Lung Squam...   \n",
       "\n",
       "                                              center data_category  \\\n",
       "0  {'center_id': 'a6b3bcf1-9ca6-56e9-8f04-0e3a63e...      Clinical   \n",
       "1  {'center_id': 'a6b3bcf1-9ca6-56e9-8f04-0e3a63e...      Clinical   \n",
       "2  {'center_id': 'a6b3bcf1-9ca6-56e9-8f04-0e3a63e...      Clinical   \n",
       "3  {'center_id': 'a6b3bcf1-9ca6-56e9-8f04-0e3a63e...      Clinical   \n",
       "4  {'center_id': 'a6b3bcf1-9ca6-56e9-8f04-0e3a63e...      Clinical   \n",
       "\n",
       "  data_format           data_type                               file_id  \\\n",
       "0         SVS  Tissue slide image  832dc6cf-3ba3-473b-8b45-bd73025224dd   \n",
       "1         SVS  Tissue slide image  caeff158-ff4e-4abd-9f6b-423b5f4d0b92   \n",
       "2         SVS  Tissue slide image  fa54d65e-f59e-427e-9516-5542d0631d13   \n",
       "3         SVS  Tissue slide image  5d8ec7c3-b4ce-4234-811b-970ce8f9b3d6   \n",
       "4         SVS  Tissue slide image  435bd7a3-6a49-4379-92fd-582abf3e2198   \n",
       "\n",
       "                                           file_name  file_size  \\\n",
       "0  TCGA-56-5897-01A-01-TS1.360c2b58-7187-4e91-a2e...   52674311   \n",
       "1  TCGA-44-2656-11A-01-TS1.24d5e405-fb65-4cf7-b58...  107626943   \n",
       "2  TCGA-66-2769-01A-01-BS1.c5f59bc6-776c-4714-bfd...   99182937   \n",
       "3  TCGA-77-8009-01A-01-BS1.9f34e43f-a79d-42e3-938...   64501505   \n",
       "4  TCGA-22-5482-11A-01-TS1.d3a36849-353b-4b5e-85e...  119027213   \n",
       "\n",
       "                             md5sum  platform state  submitter_id     tags  \n",
       "0  c24c596f008d04715da77eb99424c6be  Clinical  live           NaN  [image]  \n",
       "1  2ed8d521d65a0e9e7fe42f58b2a4cadd  Clinical  live           NaN  [image]  \n",
       "2  af2d8fa1d16e6cde3069d91ebf39bb5a  Clinical  live           NaN  [image]  \n",
       "3  56b28f87c140248b8388f1beb16e59da  Clinical  live           NaN  [image]  \n",
       "4  2a3e8c0a22ed3db3143a79867659bf80  Clinical  live           NaN  [image]  "
      ]
     },
     "execution_count": 37,
     "metadata": {},
     "output_type": "execute_result"
    }
   ],
   "source": [
    "json_data.head()"
   ]
  },
  {
   "cell_type": "code",
   "execution_count": 22,
   "metadata": {
    "collapsed": false
   },
   "outputs": [
    {
     "data": {
      "text/plain": [
       "array(['Clinical'], dtype=object)"
      ]
     },
     "execution_count": 22,
     "metadata": {},
     "output_type": "execute_result"
    }
   ],
   "source": [
    "json_data.platform.unique()"
   ]
  },
  {
   "cell_type": "code",
   "execution_count": 46,
   "metadata": {
    "collapsed": false
   },
   "outputs": [
    {
     "data": {
      "text/plain": [
       "array(['TCGA-56-5897-01A-01-TS1.360c2b58-7187-4e91-a2ea-2194d2b05b99.svs',\n",
       "       'TCGA-44-2656-11A-01-TS1.24d5e405-fb65-4cf7-b58b-d98739644c10.svs',\n",
       "       'TCGA-66-2769-01A-01-BS1.c5f59bc6-776c-4714-bfdb-ab6a749bc6b6.svs',\n",
       "       ...,\n",
       "       'TCGA-66-2786-11A-01-TS1.c99d2754-1d25-4cb4-833b-9e51056a8669.svs',\n",
       "       'TCGA-73-4676-01A-01-BS1.0681abfa-e0e4-42d1-a510-6f530c63acd4.svs',\n",
       "       'TCGA-50-5051-01A-02-BS2.1bdbee1f-f24b-4a65-afb2-3e80e81ff462.svs'], dtype=object)"
      ]
     },
     "execution_count": 46,
     "metadata": {},
     "output_type": "execute_result"
    }
   ],
   "source": [
    "json_data.file_name.unique()"
   ]
  },
  {
   "cell_type": "code",
   "execution_count": 31,
   "metadata": {
    "collapsed": false
   },
   "outputs": [
    {
     "data": {
      "text/plain": [
       "array(['Clinical'], dtype=object)"
      ]
     },
     "execution_count": 31,
     "metadata": {},
     "output_type": "execute_result"
    }
   ],
   "source": [
    "json_data.data_category.unique()"
   ]
  },
  {
   "cell_type": "code",
   "execution_count": 34,
   "metadata": {
    "collapsed": false
   },
   "outputs": [
    {
     "data": {
      "text/plain": [
       "[{'annotation_id': 'e1d64486-e732-52e1-8a30-6ca8ee3c40e5',\n",
       "  'case_id': '9335e4df-9974-47ec-84c4-256cd33522f2',\n",
       "  'category': 'Prior malignancy',\n",
       "  'classification': 'Notification',\n",
       "  'created_datetime': '2010-09-02T00:00:00',\n",
       "  'entity_id': '9335e4df-9974-47ec-84c4-256cd33522f2',\n",
       "  'entity_submitter_id': 'TCGA-34-2605',\n",
       "  'entity_type': 'case',\n",
       "  'notes': '[intgen.org]: Prior Malignancy',\n",
       "  'state': 'submitted',\n",
       "  'status': 'Approved',\n",
       "  'submitter_id': '659',\n",
       "  'updated_datetime': '2017-03-09T13:37:30.801428-06:00'}]"
      ]
     },
     "execution_count": 34,
     "metadata": {},
     "output_type": "execute_result"
    }
   ],
   "source": [
    "json_data.annotations[8]"
   ]
  },
  {
   "cell_type": "code",
   "execution_count": 18,
   "metadata": {
    "collapsed": false
   },
   "outputs": [
    {
     "data": {
      "text/plain": [
       "{'archive_id': 'eb42c614-37ec-44b8-a11f-dd3ef19114be',\n",
       " 'data_category': 'Archive',\n",
       " 'data_format': 'TARGZ',\n",
       " 'data_type': 'TCGA DCC Archive',\n",
       " 'file_name': 'nationwidechildrens.org_LUSC.tissue_images.Level_1.101.1.0.tar.gz',\n",
       " 'file_size': 4897300658,\n",
       " 'file_state': 'submitted',\n",
       " 'md5sum': '2539c45df6092c927438837d8ad5e96d',\n",
       " 'revision': 1,\n",
       " 'state': 'live',\n",
       " 'submitter_id': 'nationwidechildrens.org_LUSC.tissue_images.Level_1.101',\n",
       " 'updated_datetime': '2017-03-04T16:43:58.641267-06:00'}"
      ]
     },
     "execution_count": 18,
     "metadata": {},
     "output_type": "execute_result"
    }
   ],
   "source": [
    "json_data.archive[0]"
   ]
  },
  {
   "cell_type": "code",
   "execution_count": 19,
   "metadata": {
    "collapsed": false
   },
   "outputs": [
    {
     "data": {
      "text/plain": [
       "{'center_id': 'a6b3bcf1-9ca6-56e9-8f04-0e3a63e60a6a',\n",
       " 'center_type': 'BCR',\n",
       " 'code': '36',\n",
       " 'name': \"Nationwide Children's Hospital BCR\",\n",
       " 'namespace': 'nationwidechildrens.org',\n",
       " 'short_name': 'NCH'}"
      ]
     },
     "execution_count": 19,
     "metadata": {},
     "output_type": "execute_result"
    }
   ],
   "source": [
    "json_data.center[0]"
   ]
  },
  {
   "cell_type": "code",
   "execution_count": 54,
   "metadata": {
    "collapsed": false,
    "scrolled": false
   },
   "outputs": [
    {
     "data": {
      "text/plain": [
       "[{'case_id': 'bd15f523-45c4-4d7c-a3cc-4fb56abb0e54',\n",
       "  'created_datetime': None,\n",
       "  'demographic': {'created_datetime': None,\n",
       "   'demographic_id': '5ef059c3-25ad-5baa-a634-c87466661922',\n",
       "   'ethnicity': 'not reported',\n",
       "   'gender': 'male',\n",
       "   'race': 'white',\n",
       "   'state': 'live',\n",
       "   'submitter_id': 'TCGA-22-5477_demographic',\n",
       "   'updated_datetime': '2017-03-04T16:37:28.862150-06:00',\n",
       "   'year_of_birth': 1939,\n",
       "   'year_of_death': 2007},\n",
       "  'diagnoses': [{'age_at_diagnosis': 24055.0,\n",
       "    'classification_of_tumor': 'not reported',\n",
       "    'created_datetime': None,\n",
       "    'days_to_birth': -24055.0,\n",
       "    'days_to_death': 1346.0,\n",
       "    'days_to_last_follow_up': 1346.0,\n",
       "    'days_to_last_known_disease_status': None,\n",
       "    'days_to_recurrence': None,\n",
       "    'diagnosis_id': '0b7d8b6b-d111-5d35-a5e3-b24aefb99b51',\n",
       "    'last_known_disease_status': 'not reported',\n",
       "    'morphology': '8070/3',\n",
       "    'primary_diagnosis': 'c34.3',\n",
       "    'prior_malignancy': 'not reported',\n",
       "    'progression_or_recurrence': 'not reported',\n",
       "    'site_of_resection_or_biopsy': 'c34.3',\n",
       "    'state': 'live',\n",
       "    'submitter_id': 'TCGA-22-5477_diagnosis',\n",
       "    'tissue_or_organ_of_origin': 'c34.3',\n",
       "    'treatments': [{'created_datetime': None,\n",
       "      'days_to_treatment': None,\n",
       "      'state': 'live',\n",
       "      'submitter_id': 'TCGA-22-5477_treatment',\n",
       "      'therapeutic_agents': None,\n",
       "      'treatment_id': '31f01beb-853d-5bee-893f-1d89beec2ff4',\n",
       "      'treatment_intent_type': None,\n",
       "      'treatment_or_therapy': None,\n",
       "      'updated_datetime': '2017-03-04T16:43:59.646072-06:00'}],\n",
       "    'tumor_grade': 'not reported',\n",
       "    'tumor_stage': 'stage ia',\n",
       "    'updated_datetime': '2017-03-04T16:44:35.784223-06:00',\n",
       "    'vital_status': 'dead'}],\n",
       "  'disease_type': 'Lung Squamous Cell Carcinoma',\n",
       "  'exposures': [{'alcohol_history': None,\n",
       "    'alcohol_intensity': None,\n",
       "    'bmi': None,\n",
       "    'cigarettes_per_day': 5.47945205479452,\n",
       "    'created_datetime': None,\n",
       "    'exposure_id': '95c92ebd-dc7e-5d8e-a9e6-8e3afc222e72',\n",
       "    'height': None,\n",
       "    'state': 'live',\n",
       "    'submitter_id': 'TCGA-22-5477_exposure',\n",
       "    'updated_datetime': '2017-03-04T16:37:25.850486-06:00',\n",
       "    'weight': None,\n",
       "    'years_smoked': None}],\n",
       "  'primary_site': 'Lung',\n",
       "  'project': {'project_id': 'TCGA-LUSC'},\n",
       "  'samples': [{'composition': None,\n",
       "    'created_datetime': None,\n",
       "    'current_weight': None,\n",
       "    'days_to_collection': None,\n",
       "    'days_to_sample_procurement': None,\n",
       "    'freezing_method': None,\n",
       "    'initial_weight': None,\n",
       "    'intermediate_dimension': '0.8',\n",
       "    'is_ffpe': False,\n",
       "    'longest_dimension': '1.4',\n",
       "    'oct_embedded': None,\n",
       "    'pathology_report_uuid': '9dcdc788-4ebd-4376-ab97-b0602a684b90',\n",
       "    'portions': [{'created_datetime': None,\n",
       "      'creation_datetime': 1291593600,\n",
       "      'is_ffpe': False,\n",
       "      'portion_id': '46153132-1eca-4409-b6f1-d6acef483710',\n",
       "      'portion_number': '01',\n",
       "      'slides': [{'created_datetime': None,\n",
       "        'number_proliferating_cells': None,\n",
       "        'percent_eosinophil_infiltration': None,\n",
       "        'percent_granulocyte_infiltration': None,\n",
       "        'percent_inflam_infiltration': None,\n",
       "        'percent_lymphocyte_infiltration': None,\n",
       "        'percent_monocyte_infiltration': None,\n",
       "        'percent_necrosis': 13.0,\n",
       "        'percent_neutrophil_infiltration': None,\n",
       "        'percent_normal_cells': 12.0,\n",
       "        'percent_stromal_cells': 5.0,\n",
       "        'percent_tumor_cells': 70.0,\n",
       "        'percent_tumor_nuclei': 90.0,\n",
       "        'section_location': 'TOP',\n",
       "        'slide_id': '25b8da50-db12-479d-98ff-da2eaa25cb69',\n",
       "        'state': 'live',\n",
       "        'submitter_id': 'TCGA-22-5477-01A-01-TS1',\n",
       "        'updated_datetime': '2017-03-04T16:37:25.730133-06:00'}],\n",
       "      'state': 'live',\n",
       "      'submitter_id': 'TCGA-22-5477-01A-01',\n",
       "      'updated_datetime': '2017-03-04T16:37:25.884855-06:00',\n",
       "      'weight': 60.0}],\n",
       "    'preservation_method': None,\n",
       "    'sample_id': 'f9d568b1-6951-4eaf-8867-4c86bdaeaa04',\n",
       "    'sample_type': 'Primary Tumor',\n",
       "    'sample_type_id': '01',\n",
       "    'shortest_dimension': '0.3',\n",
       "    'state': 'live',\n",
       "    'submitter_id': 'TCGA-22-5477-01A',\n",
       "    'time_between_clamping_and_freezing': None,\n",
       "    'time_between_excision_and_freezing': None,\n",
       "    'tissue_type': None,\n",
       "    'tumor_code': None,\n",
       "    'tumor_code_id': None,\n",
       "    'tumor_descriptor': None,\n",
       "    'updated_datetime': '2017-03-04T16:37:25.946840-06:00'}],\n",
       "  'state': 'live',\n",
       "  'submitter_id': 'TCGA-22-5477',\n",
       "  'updated_datetime': '2017-03-04T16:39:19.244769-06:00'}]"
      ]
     },
     "execution_count": 54,
     "metadata": {},
     "output_type": "execute_result"
    }
   ],
   "source": [
    "json_data.cases[248]"
   ]
  },
  {
   "cell_type": "markdown",
   "metadata": {},
   "source": [
    "Basically, we only care about json_data.cases and json_data.file_name"
   ]
  },
  {
   "cell_type": "markdown",
   "metadata": {},
   "source": [
    "#### Keep columns of intrest"
   ]
  },
  {
   "cell_type": "code",
   "execution_count": 38,
   "metadata": {
    "collapsed": true
   },
   "outputs": [],
   "source": [
    "json_data = json_data[['file_name', 'cases']]"
   ]
  },
  {
   "cell_type": "code",
   "execution_count": 41,
   "metadata": {
    "collapsed": false
   },
   "outputs": [],
   "source": [
    "json_dic = dict(json_data)"
   ]
  },
  {
   "cell_type": "code",
   "execution_count": 47,
   "metadata": {
    "collapsed": false
   },
   "outputs": [
    {
     "data": {
      "text/html": [
       "<div>\n",
       "<style>\n",
       "    .dataframe thead tr:only-child th {\n",
       "        text-align: right;\n",
       "    }\n",
       "\n",
       "    .dataframe thead th {\n",
       "        text-align: left;\n",
       "    }\n",
       "\n",
       "    .dataframe tbody tr th {\n",
       "        vertical-align: top;\n",
       "    }\n",
       "</style>\n",
       "<table border=\"1\" class=\"dataframe\">\n",
       "  <thead>\n",
       "    <tr style=\"text-align: right;\">\n",
       "      <th></th>\n",
       "      <th>file_name</th>\n",
       "      <th>cases</th>\n",
       "    </tr>\n",
       "  </thead>\n",
       "  <tbody>\n",
       "    <tr>\n",
       "      <th>248</th>\n",
       "      <td>TCGA-22-5477-01A-01-TS1.25b8da50-db12-479d-98f...</td>\n",
       "      <td>[{'state': 'live', 'disease_type': 'Lung Squam...</td>\n",
       "    </tr>\n",
       "  </tbody>\n",
       "</table>\n",
       "</div>"
      ],
      "text/plain": [
       "                                             file_name  \\\n",
       "248  TCGA-22-5477-01A-01-TS1.25b8da50-db12-479d-98f...   \n",
       "\n",
       "                                                 cases  \n",
       "248  [{'state': 'live', 'disease_type': 'Lung Squam...  "
      ]
     },
     "execution_count": 47,
     "metadata": {},
     "output_type": "execute_result"
    }
   ],
   "source": [
    "json_data[json_data.file_name == \"TCGA-22-5477-01A-01-TS1.25b8da50-db12-479d-98ff-da2eaa25cb69.svs\"]"
   ]
  },
  {
   "cell_type": "code",
   "execution_count": 52,
   "metadata": {
    "collapsed": false
   },
   "outputs": [
    {
     "data": {
      "text/plain": [
       "248    [{'state': 'live', 'disease_type': 'Lung Squam...\n",
       "Name: cases, dtype: object"
      ]
     },
     "execution_count": 52,
     "metadata": {},
     "output_type": "execute_result"
    }
   ],
   "source": [
    "json_data[json_data.file_name == \"TCGA-22-5477-01A-01-TS1.25b8da50-db12-479d-98ff-da2eaa25cb69.svs\"].cases"
   ]
  },
  {
   "cell_type": "code",
   "execution_count": 58,
   "metadata": {
    "collapsed": false
   },
   "outputs": [
    {
     "data": {
      "text/html": [
       "<div>\n",
       "<style>\n",
       "    .dataframe thead tr:only-child th {\n",
       "        text-align: right;\n",
       "    }\n",
       "\n",
       "    .dataframe thead th {\n",
       "        text-align: left;\n",
       "    }\n",
       "\n",
       "    .dataframe tbody tr th {\n",
       "        vertical-align: top;\n",
       "    }\n",
       "</style>\n",
       "<table border=\"1\" class=\"dataframe\">\n",
       "  <thead>\n",
       "    <tr style=\"text-align: right;\">\n",
       "      <th></th>\n",
       "      <th>file_name</th>\n",
       "      <th>cases</th>\n",
       "    </tr>\n",
       "  </thead>\n",
       "  <tbody>\n",
       "    <tr>\n",
       "      <th>248</th>\n",
       "      <td>TCGA-22-5477-01A-01-TS1.25b8da50-db12-479d-98f...</td>\n",
       "      <td>[{'state': 'live', 'disease_type': 'Lung Squam...</td>\n",
       "    </tr>\n",
       "  </tbody>\n",
       "</table>\n",
       "</div>"
      ],
      "text/plain": [
       "                                             file_name  \\\n",
       "248  TCGA-22-5477-01A-01-TS1.25b8da50-db12-479d-98f...   \n",
       "\n",
       "                                                 cases  \n",
       "248  [{'state': 'live', 'disease_type': 'Lung Squam...  "
      ]
     },
     "execution_count": 58,
     "metadata": {},
     "output_type": "execute_result"
    }
   ],
   "source": [
    "json_data[json_data.file_name == \"TCGA-22-5477-01A-01-TS1.25b8da50-db12-479d-98ff-da2eaa25cb69.svs\"]"
   ]
  },
  {
   "cell_type": "code",
   "execution_count": 92,
   "metadata": {
    "collapsed": false
   },
   "outputs": [],
   "source": [
    "temp = json_data[json_data.file_name == \"TCGA-22-5477-01A-01-TS1.25b8da50-db12-479d-98ff-da2eaa25cb69.svs\"].cases"
   ]
  },
  {
   "cell_type": "code",
   "execution_count": 146,
   "metadata": {
    "collapsed": false
   },
   "outputs": [],
   "source": [
    "temp = json_data.iloc[248].cases # Per row info"
   ]
  },
  {
   "cell_type": "code",
   "execution_count": 147,
   "metadata": {
    "collapsed": false
   },
   "outputs": [
    {
     "data": {
      "text/plain": [
       "'TCGA-22-5477-01A-01-TS1.25b8da50-db12-479d-98ff-da2eaa25cb69.svs'"
      ]
     },
     "execution_count": 147,
     "metadata": {},
     "output_type": "execute_result"
    }
   ],
   "source": [
    "json_data.iloc[248].file_name"
   ]
  },
  {
   "cell_type": "markdown",
   "metadata": {},
   "source": [
    "Parse inside ONE file:"
   ]
  },
  {
   "cell_type": "code",
   "execution_count": 115,
   "metadata": {
    "collapsed": false
   },
   "outputs": [
    {
     "data": {
      "text/plain": [
       "'male'"
      ]
     },
     "execution_count": 115,
     "metadata": {},
     "output_type": "execute_result"
    }
   ],
   "source": [
    "temp[0].get('demographic').get('gender')"
   ]
  },
  {
   "cell_type": "code",
   "execution_count": 120,
   "metadata": {
    "collapsed": false
   },
   "outputs": [
    {
     "data": {
      "text/plain": [
       "'white'"
      ]
     },
     "execution_count": 120,
     "metadata": {},
     "output_type": "execute_result"
    }
   ],
   "source": [
    "temp[0].get('demographic').get('race')"
   ]
  },
  {
   "cell_type": "code",
   "execution_count": 122,
   "metadata": {
    "collapsed": false
   },
   "outputs": [
    {
     "data": {
      "text/plain": [
       "1939"
      ]
     },
     "execution_count": 122,
     "metadata": {},
     "output_type": "execute_result"
    }
   ],
   "source": [
    "temp[0].get('demographic').get('year_of_birth')"
   ]
  },
  {
   "cell_type": "code",
   "execution_count": 131,
   "metadata": {
    "collapsed": false
   },
   "outputs": [
    {
     "data": {
      "text/plain": [
       "24055.0"
      ]
     },
     "execution_count": 131,
     "metadata": {},
     "output_type": "execute_result"
    }
   ],
   "source": [
    "temp[0].get('diagnoses')[0].get('age_at_diagnosis')"
   ]
  },
  {
   "cell_type": "code",
   "execution_count": 132,
   "metadata": {
    "collapsed": false
   },
   "outputs": [
    {
     "data": {
      "text/plain": [
       "-24055.0"
      ]
     },
     "execution_count": 132,
     "metadata": {},
     "output_type": "execute_result"
    }
   ],
   "source": [
    "temp[0].get('diagnoses')[0].get('days_to_birth')"
   ]
  },
  {
   "cell_type": "code",
   "execution_count": 134,
   "metadata": {
    "collapsed": false
   },
   "outputs": [
    {
     "data": {
      "text/plain": [
       "'not reported'"
      ]
     },
     "execution_count": 134,
     "metadata": {},
     "output_type": "execute_result"
    }
   ],
   "source": [
    "temp[0].get('diagnoses')[0].get('prior_malignancy')"
   ]
  },
  {
   "cell_type": "code",
   "execution_count": 125,
   "metadata": {
    "collapsed": false
   },
   "outputs": [
    {
     "data": {
      "text/plain": [
       "'Primary Tumor'"
      ]
     },
     "execution_count": 125,
     "metadata": {},
     "output_type": "execute_result"
    }
   ],
   "source": [
    "temp[0].get('samples')[0].get(\"sample_type\")"
   ]
  },
  {
   "cell_type": "code",
   "execution_count": 133,
   "metadata": {
    "collapsed": false
   },
   "outputs": [
    {
     "data": {
      "text/plain": [
       "'Lung Squamous Cell Carcinoma'"
      ]
     },
     "execution_count": 133,
     "metadata": {},
     "output_type": "execute_result"
    }
   ],
   "source": [
    "temp[0].get('disease_type')"
   ]
  },
  {
   "cell_type": "code",
   "execution_count": 138,
   "metadata": {
    "collapsed": false
   },
   "outputs": [
    {
     "data": {
      "text/plain": [
       "5.47945205479452"
      ]
     },
     "execution_count": 138,
     "metadata": {},
     "output_type": "execute_result"
    }
   ],
   "source": [
    "temp[0].get('exposures')[0].get('cigarettes_per_day')"
   ]
  },
  {
   "cell_type": "code",
   "execution_count": 140,
   "metadata": {
    "collapsed": false
   },
   "outputs": [],
   "source": [
    "temp[0].get('exposures')[0].get('height')"
   ]
  },
  {
   "cell_type": "code",
   "execution_count": 144,
   "metadata": {
    "collapsed": true
   },
   "outputs": [],
   "source": [
    "temp[0].get('exposures')[0].get('weight')"
   ]
  },
  {
   "cell_type": "code",
   "execution_count": null,
   "metadata": {
    "collapsed": true
   },
   "outputs": [],
   "source": [
    "temp[0].get('exposures')[0].get('alcohol_intensity')"
   ]
  },
  {
   "cell_type": "code",
   "execution_count": 145,
   "metadata": {
    "collapsed": false
   },
   "outputs": [],
   "source": [
    "temp[0].get('exposures')[0].get('years_smoked')"
   ]
  },
  {
   "cell_type": "markdown",
   "metadata": {},
   "source": [
    "## Build one data frame to explore with this "
   ]
  },
  {
   "cell_type": "code",
   "execution_count": 1,
   "metadata": {
    "collapsed": true
   },
   "outputs": [],
   "source": [
    "import json\n",
    "import numpy as np\n",
    "import pandas as pd\n",
    "import matplotlib.pyplot as plt\n",
    "%matplotlib inline"
   ]
  },
  {
   "cell_type": "code",
   "execution_count": 2,
   "metadata": {
    "collapsed": true
   },
   "outputs": [],
   "source": [
    "jsondir = \"/Users/eduardofierro/Google Drive/TercerSemetre/Capstone/DownloadFiles/Lung/\""
   ]
  },
  {
   "cell_type": "code",
   "execution_count": 3,
   "metadata": {
    "collapsed": false
   },
   "outputs": [],
   "source": [
    "with open(jsondir + \"LUNG_metadata.cart.2017-10-06T17-57-09.290314.json\") as data_file:    \n",
    "    json_orig = json.load(data_file)\n",
    "    \n",
    "json_data = pd.read_json(jsondir + \"LUNG_metadata.cart.2017-10-06T17-57-09.290314.json\")\n",
    "json_data = json_data[['file_name', 'cases']]"
   ]
  },
  {
   "cell_type": "code",
   "execution_count": 4,
   "metadata": {
    "collapsed": false
   },
   "outputs": [],
   "source": [
    "# Not so elegant, but works fine\n",
    "\n",
    "new_data = json_data.copy()\n",
    "new_data['gender'] = None\n",
    "new_data['race'] = None\n",
    "new_data['year_of_birth'] = None\n",
    "new_data['age_at_diagnosis'] = None\n",
    "new_data['days_to_birth'] = None\n",
    "new_data['prior_malignancy'] = None\n",
    "new_data['sample_type'] = None\n",
    "new_data['disease_type'] = None\n",
    "new_data['cigarettes_per_day'] = None\n",
    "new_data['height'] = None\n",
    "new_data['weight'] = None\n",
    "new_data['alcohol_intensity'] = None\n",
    "new_data['years_smoked'] = None\n",
    "new_data['project_id'] = None\n",
    "\n",
    "for row in range(0,json_data.shape[0]):\n",
    "    \n",
    "    current_cases = json_data.iloc[row].cases\n",
    "    \n",
    "    gender = current_cases[0].get('demographic').get('gender')\n",
    "    race = current_cases[0].get('demographic').get('race')\n",
    "    year_of_birth = current_cases[0].get('demographic').get('year_of_birth')    \n",
    "    age_at_diagnosis = current_cases[0].get('diagnoses')[0].get('age_at_diagnosis')\n",
    "    days_to_birth = current_cases[0].get('diagnoses')[0].get('days_to_birth')    \n",
    "    prior_malignancy = current_cases[0].get('diagnoses')[0].get('prior_malignancy')    \n",
    "    sample_type = current_cases[0].get('samples')[0].get(\"sample_type\")    \n",
    "    disease_type = current_cases[0].get('disease_type')    \n",
    "    cigarettes_per_day = current_cases[0].get('exposures')[0].get('cigarettes_per_day')\n",
    "    height = current_cases[0].get('exposures')[0].get('height')\n",
    "    weight = current_cases[0].get('exposures')[0].get('weight')\n",
    "    alcohol_intensity = current_cases[0].get('exposures')[0].get('alcohol_intensity')\n",
    "    years_smoked = current_cases[0].get('exposures')[0].get('years_smoked')\n",
    "    project_id = current_cases[0].get('project').get('project_id')\n",
    "    \n",
    "    new_data = new_data.set_value(row, 'gender', gender)\n",
    "    new_data = new_data.set_value(row, 'race', race)\n",
    "    new_data = new_data.set_value(row, 'year_of_birth', year_of_birth)\n",
    "    new_data = new_data.set_value(row, 'age_at_diagnosis', age_at_diagnosis)\n",
    "    new_data = new_data.set_value(row, 'days_to_birth', days_to_birth)\n",
    "    new_data = new_data.set_value(row, 'prior_malignancy', prior_malignancy)\n",
    "    new_data = new_data.set_value(row, 'sample_type', sample_type)\n",
    "    new_data = new_data.set_value(row, 'disease_type', disease_type)\n",
    "    new_data = new_data.set_value(row, 'cigarettes_per_day', cigarettes_per_day)\n",
    "    new_data = new_data.set_value(row, 'height', height)\n",
    "    new_data = new_data.set_value(row, 'weight', weight)\n",
    "    new_data = new_data.set_value(row, 'alcohol_intensity', alcohol_intensity)\n",
    "    new_data = new_data.set_value(row, 'years_smoked', years_smoked)\n",
    "    new_data = new_data.set_value(row, 'project_id', project_id)"
   ]
  },
  {
   "cell_type": "code",
   "execution_count": 5,
   "metadata": {
    "collapsed": false
   },
   "outputs": [
    {
     "data": {
      "text/html": [
       "<div>\n",
       "<style>\n",
       "    .dataframe thead tr:only-child th {\n",
       "        text-align: right;\n",
       "    }\n",
       "\n",
       "    .dataframe thead th {\n",
       "        text-align: left;\n",
       "    }\n",
       "\n",
       "    .dataframe tbody tr th {\n",
       "        vertical-align: top;\n",
       "    }\n",
       "</style>\n",
       "<table border=\"1\" class=\"dataframe\">\n",
       "  <thead>\n",
       "    <tr style=\"text-align: right;\">\n",
       "      <th></th>\n",
       "      <th>file_name</th>\n",
       "      <th>cases</th>\n",
       "      <th>gender</th>\n",
       "      <th>race</th>\n",
       "      <th>year_of_birth</th>\n",
       "      <th>age_at_diagnosis</th>\n",
       "      <th>days_to_birth</th>\n",
       "      <th>prior_malignancy</th>\n",
       "      <th>sample_type</th>\n",
       "      <th>disease_type</th>\n",
       "      <th>cigarettes_per_day</th>\n",
       "      <th>height</th>\n",
       "      <th>weight</th>\n",
       "      <th>alcohol_intensity</th>\n",
       "      <th>years_smoked</th>\n",
       "      <th>project_id</th>\n",
       "    </tr>\n",
       "  </thead>\n",
       "  <tbody>\n",
       "    <tr>\n",
       "      <th>0</th>\n",
       "      <td>TCGA-56-5897-01A-01-TS1.360c2b58-7187-4e91-a2e...</td>\n",
       "      <td>[{'primary_site': 'Lung', 'submitter_id': 'TCG...</td>\n",
       "      <td>male</td>\n",
       "      <td>white</td>\n",
       "      <td>1936</td>\n",
       "      <td>27118</td>\n",
       "      <td>-27118</td>\n",
       "      <td>not reported</td>\n",
       "      <td>Primary Tumor</td>\n",
       "      <td>Lung Squamous Cell Carcinoma</td>\n",
       "      <td>None</td>\n",
       "      <td>None</td>\n",
       "      <td>None</td>\n",
       "      <td>None</td>\n",
       "      <td>None</td>\n",
       "      <td>TCGA-LUSC</td>\n",
       "    </tr>\n",
       "    <tr>\n",
       "      <th>1</th>\n",
       "      <td>TCGA-44-2656-11A-01-TS1.24d5e405-fb65-4cf7-b58...</td>\n",
       "      <td>[{'primary_site': 'Lung', 'submitter_id': 'TCG...</td>\n",
       "      <td>male</td>\n",
       "      <td>white</td>\n",
       "      <td>1950</td>\n",
       "      <td>21766</td>\n",
       "      <td>-21766</td>\n",
       "      <td>not reported</td>\n",
       "      <td>Solid Tissue Normal</td>\n",
       "      <td>Lung Adenocarcinoma</td>\n",
       "      <td>1.26027</td>\n",
       "      <td>None</td>\n",
       "      <td>None</td>\n",
       "      <td>None</td>\n",
       "      <td>15</td>\n",
       "      <td>TCGA-LUAD</td>\n",
       "    </tr>\n",
       "    <tr>\n",
       "      <th>2</th>\n",
       "      <td>TCGA-66-2769-01A-01-BS1.c5f59bc6-776c-4714-bfd...</td>\n",
       "      <td>[{'primary_site': 'Lung', 'submitter_id': 'TCG...</td>\n",
       "      <td>male</td>\n",
       "      <td>not reported</td>\n",
       "      <td>1932</td>\n",
       "      <td>27515</td>\n",
       "      <td>-27515</td>\n",
       "      <td>not reported</td>\n",
       "      <td>Primary Tumor</td>\n",
       "      <td>Lung Squamous Cell Carcinoma</td>\n",
       "      <td>1.80822</td>\n",
       "      <td>None</td>\n",
       "      <td>None</td>\n",
       "      <td>None</td>\n",
       "      <td>33</td>\n",
       "      <td>TCGA-LUSC</td>\n",
       "    </tr>\n",
       "    <tr>\n",
       "      <th>3</th>\n",
       "      <td>TCGA-77-8009-01A-01-BS1.9f34e43f-a79d-42e3-938...</td>\n",
       "      <td>[{'primary_site': 'Lung', 'submitter_id': 'TCG...</td>\n",
       "      <td>male</td>\n",
       "      <td>not reported</td>\n",
       "      <td>1939</td>\n",
       "      <td>25037</td>\n",
       "      <td>-25037</td>\n",
       "      <td>not reported</td>\n",
       "      <td>Primary Tumor</td>\n",
       "      <td>Lung Squamous Cell Carcinoma</td>\n",
       "      <td>5.34247</td>\n",
       "      <td>None</td>\n",
       "      <td>None</td>\n",
       "      <td>None</td>\n",
       "      <td>39</td>\n",
       "      <td>TCGA-LUSC</td>\n",
       "    </tr>\n",
       "    <tr>\n",
       "      <th>4</th>\n",
       "      <td>TCGA-22-5482-11A-01-TS1.d3a36849-353b-4b5e-85e...</td>\n",
       "      <td>[{'primary_site': 'Lung', 'submitter_id': 'TCG...</td>\n",
       "      <td>male</td>\n",
       "      <td>white</td>\n",
       "      <td>1924</td>\n",
       "      <td>29657</td>\n",
       "      <td>-29657</td>\n",
       "      <td>not reported</td>\n",
       "      <td>Solid Tissue Normal</td>\n",
       "      <td>Lung Squamous Cell Carcinoma</td>\n",
       "      <td>3.28767</td>\n",
       "      <td>None</td>\n",
       "      <td>None</td>\n",
       "      <td>None</td>\n",
       "      <td>60</td>\n",
       "      <td>TCGA-LUSC</td>\n",
       "    </tr>\n",
       "  </tbody>\n",
       "</table>\n",
       "</div>"
      ],
      "text/plain": [
       "                                           file_name  \\\n",
       "0  TCGA-56-5897-01A-01-TS1.360c2b58-7187-4e91-a2e...   \n",
       "1  TCGA-44-2656-11A-01-TS1.24d5e405-fb65-4cf7-b58...   \n",
       "2  TCGA-66-2769-01A-01-BS1.c5f59bc6-776c-4714-bfd...   \n",
       "3  TCGA-77-8009-01A-01-BS1.9f34e43f-a79d-42e3-938...   \n",
       "4  TCGA-22-5482-11A-01-TS1.d3a36849-353b-4b5e-85e...   \n",
       "\n",
       "                                               cases gender          race  \\\n",
       "0  [{'primary_site': 'Lung', 'submitter_id': 'TCG...   male         white   \n",
       "1  [{'primary_site': 'Lung', 'submitter_id': 'TCG...   male         white   \n",
       "2  [{'primary_site': 'Lung', 'submitter_id': 'TCG...   male  not reported   \n",
       "3  [{'primary_site': 'Lung', 'submitter_id': 'TCG...   male  not reported   \n",
       "4  [{'primary_site': 'Lung', 'submitter_id': 'TCG...   male         white   \n",
       "\n",
       "  year_of_birth age_at_diagnosis days_to_birth prior_malignancy  \\\n",
       "0          1936            27118        -27118     not reported   \n",
       "1          1950            21766        -21766     not reported   \n",
       "2          1932            27515        -27515     not reported   \n",
       "3          1939            25037        -25037     not reported   \n",
       "4          1924            29657        -29657     not reported   \n",
       "\n",
       "           sample_type                  disease_type cigarettes_per_day  \\\n",
       "0        Primary Tumor  Lung Squamous Cell Carcinoma               None   \n",
       "1  Solid Tissue Normal           Lung Adenocarcinoma            1.26027   \n",
       "2        Primary Tumor  Lung Squamous Cell Carcinoma            1.80822   \n",
       "3        Primary Tumor  Lung Squamous Cell Carcinoma            5.34247   \n",
       "4  Solid Tissue Normal  Lung Squamous Cell Carcinoma            3.28767   \n",
       "\n",
       "  height weight alcohol_intensity years_smoked project_id  \n",
       "0   None   None              None         None  TCGA-LUSC  \n",
       "1   None   None              None           15  TCGA-LUAD  \n",
       "2   None   None              None           33  TCGA-LUSC  \n",
       "3   None   None              None           39  TCGA-LUSC  \n",
       "4   None   None              None           60  TCGA-LUSC  "
      ]
     },
     "execution_count": 5,
     "metadata": {},
     "output_type": "execute_result"
    }
   ],
   "source": [
    "new_data.head()"
   ]
  },
  {
   "cell_type": "code",
   "execution_count": 6,
   "metadata": {
    "collapsed": false
   },
   "outputs": [
    {
     "data": {
      "text/html": [
       "<div>\n",
       "<style>\n",
       "    .dataframe thead tr:only-child th {\n",
       "        text-align: right;\n",
       "    }\n",
       "\n",
       "    .dataframe thead th {\n",
       "        text-align: left;\n",
       "    }\n",
       "\n",
       "    .dataframe tbody tr th {\n",
       "        vertical-align: top;\n",
       "    }\n",
       "</style>\n",
       "<table border=\"1\" class=\"dataframe\">\n",
       "  <thead>\n",
       "    <tr style=\"text-align: right;\">\n",
       "      <th>project_id</th>\n",
       "      <th>TCGA-LUAD</th>\n",
       "      <th>TCGA-LUSC</th>\n",
       "    </tr>\n",
       "    <tr>\n",
       "      <th>disease_type</th>\n",
       "      <th></th>\n",
       "      <th></th>\n",
       "    </tr>\n",
       "  </thead>\n",
       "  <tbody>\n",
       "    <tr>\n",
       "      <th>Lung Adenocarcinoma</th>\n",
       "      <td>1067</td>\n",
       "      <td>0</td>\n",
       "    </tr>\n",
       "    <tr>\n",
       "      <th>Lung Squamous Cell Carcinoma</th>\n",
       "      <td>0</td>\n",
       "      <td>1100</td>\n",
       "    </tr>\n",
       "  </tbody>\n",
       "</table>\n",
       "</div>"
      ],
      "text/plain": [
       "project_id                    TCGA-LUAD  TCGA-LUSC\n",
       "disease_type                                      \n",
       "Lung Adenocarcinoma                1067          0\n",
       "Lung Squamous Cell Carcinoma          0       1100"
      ]
     },
     "execution_count": 6,
     "metadata": {},
     "output_type": "execute_result"
    }
   ],
   "source": [
    "pd.crosstab(new_data.disease_type, new_data.project_id)"
   ]
  },
  {
   "cell_type": "code",
   "execution_count": 7,
   "metadata": {
    "collapsed": false
   },
   "outputs": [
    {
     "data": {
      "text/html": [
       "<div>\n",
       "<style>\n",
       "    .dataframe thead tr:only-child th {\n",
       "        text-align: right;\n",
       "    }\n",
       "\n",
       "    .dataframe thead th {\n",
       "        text-align: left;\n",
       "    }\n",
       "\n",
       "    .dataframe tbody tr th {\n",
       "        vertical-align: top;\n",
       "    }\n",
       "</style>\n",
       "<table border=\"1\" class=\"dataframe\">\n",
       "  <thead>\n",
       "    <tr style=\"text-align: right;\">\n",
       "      <th>sample_type</th>\n",
       "      <th>Primary Tumor</th>\n",
       "      <th>Recurrent Tumor</th>\n",
       "      <th>Solid Tissue Normal</th>\n",
       "    </tr>\n",
       "    <tr>\n",
       "      <th>disease_type</th>\n",
       "      <th></th>\n",
       "      <th></th>\n",
       "      <th></th>\n",
       "    </tr>\n",
       "  </thead>\n",
       "  <tbody>\n",
       "    <tr>\n",
       "      <th>Lung Adenocarcinoma</th>\n",
       "      <td>819</td>\n",
       "      <td>4</td>\n",
       "      <td>244</td>\n",
       "    </tr>\n",
       "    <tr>\n",
       "      <th>Lung Squamous Cell Carcinoma</th>\n",
       "      <td>753</td>\n",
       "      <td>0</td>\n",
       "      <td>347</td>\n",
       "    </tr>\n",
       "  </tbody>\n",
       "</table>\n",
       "</div>"
      ],
      "text/plain": [
       "sample_type                   Primary Tumor  Recurrent Tumor  \\\n",
       "disease_type                                                   \n",
       "Lung Adenocarcinoma                     819                4   \n",
       "Lung Squamous Cell Carcinoma            753                0   \n",
       "\n",
       "sample_type                   Solid Tissue Normal  \n",
       "disease_type                                       \n",
       "Lung Adenocarcinoma                           244  \n",
       "Lung Squamous Cell Carcinoma                  347  "
      ]
     },
     "execution_count": 7,
     "metadata": {},
     "output_type": "execute_result"
    }
   ],
   "source": [
    "pd.crosstab(new_data.disease_type, new_data.sample_type)"
   ]
  },
  {
   "cell_type": "code",
   "execution_count": 8,
   "metadata": {
    "collapsed": false
   },
   "outputs": [],
   "source": [
    "# Encode Cance Type\n",
    "new_data[\"target\"] = new_data.project_id\n",
    "new_data.target[new_data.sample_type == \"Solid Tissue Normal\"] = \"Normal\""
   ]
  },
  {
   "cell_type": "code",
   "execution_count": 9,
   "metadata": {
    "collapsed": false
   },
   "outputs": [
    {
     "data": {
      "text/plain": [
       "TCGA-LUAD    823\n",
       "TCGA-LUSC    753\n",
       "Normal       591\n",
       "Name: target, dtype: int64"
      ]
     },
     "execution_count": 9,
     "metadata": {},
     "output_type": "execute_result"
    }
   ],
   "source": [
    "new_data.target.value_counts()"
   ]
  },
  {
   "cell_type": "code",
   "execution_count": 10,
   "metadata": {
    "collapsed": false
   },
   "outputs": [
    {
     "data": {
      "text/plain": [
       "not reported    2167\n",
       "Name: prior_malignancy, dtype: int64"
      ]
     },
     "execution_count": 10,
     "metadata": {},
     "output_type": "execute_result"
    }
   ],
   "source": [
    "new_data.prior_malignancy.value_counts() # So, this is shit"
   ]
  },
  {
   "cell_type": "markdown",
   "metadata": {},
   "source": [
    "## Descriptive Graphs and data"
   ]
  },
  {
   "cell_type": "markdown",
   "metadata": {},
   "source": [
    "#### Alcohol"
   ]
  },
  {
   "cell_type": "code",
   "execution_count": 11,
   "metadata": {
    "collapsed": false
   },
   "outputs": [
    {
     "data": {
      "text/plain": [
       "2167"
      ]
     },
     "execution_count": 11,
     "metadata": {},
     "output_type": "execute_result"
    }
   ],
   "source": [
    "new_data.alcohol_intensity.isnull().sum() # All NULL!!"
   ]
  },
  {
   "cell_type": "markdown",
   "metadata": {},
   "source": [
    "#### Height and Weight"
   ]
  },
  {
   "cell_type": "code",
   "execution_count": 12,
   "metadata": {
    "collapsed": false
   },
   "outputs": [
    {
     "data": {
      "text/plain": [
       "2167"
      ]
     },
     "execution_count": 12,
     "metadata": {},
     "output_type": "execute_result"
    }
   ],
   "source": [
    "new_data.height.isnull().sum() # All NULL!!"
   ]
  },
  {
   "cell_type": "code",
   "execution_count": 13,
   "metadata": {
    "collapsed": false
   },
   "outputs": [
    {
     "data": {
      "text/plain": [
       "2167"
      ]
     },
     "execution_count": 13,
     "metadata": {},
     "output_type": "execute_result"
    }
   ],
   "source": [
    "new_data.weight.isnull().sum() # All NULL!!"
   ]
  },
  {
   "cell_type": "markdown",
   "metadata": {},
   "source": [
    "#### Cigarettes a Day"
   ]
  },
  {
   "cell_type": "code",
   "execution_count": 14,
   "metadata": {
    "collapsed": false
   },
   "outputs": [
    {
     "data": {
      "text/plain": [
       "485"
      ]
     },
     "execution_count": 14,
     "metadata": {},
     "output_type": "execute_result"
    }
   ],
   "source": [
    "new_data.cigarettes_per_day.isnull().sum() "
   ]
  },
  {
   "cell_type": "code",
   "execution_count": 15,
   "metadata": {
    "collapsed": true
   },
   "outputs": [],
   "source": [
    "new_data.cigarettes_per_day.fillna(0, inplace=True)"
   ]
  },
  {
   "cell_type": "code",
   "execution_count": 16,
   "metadata": {
    "collapsed": false
   },
   "outputs": [
    {
     "data": {
      "text/plain": [
       "<matplotlib.text.Text at 0x1155c5668>"
      ]
     },
     "execution_count": 16,
     "metadata": {},
     "output_type": "execute_result"
    },
    {
     "data": {
      "image/png": "[encoded data removed]",
      "text/plain": [
       "<matplotlib.figure.Figure at 0x1155c0b00>"
      ]
     },
     "metadata": {},
     "output_type": "display_data"
    }
   ],
   "source": [
    "plt.figure(figsize=(8,5))\n",
    "plt.hist(new_data.cigarettes_per_day, bins=50)\n",
    "plt.title(\"Cigarretes a Day\")"
   ]
  },
  {
   "cell_type": "code",
   "execution_count": 17,
   "metadata": {
    "collapsed": false
   },
   "outputs": [
    {
     "data": {
      "text/plain": [
       "2.0310261645732073"
      ]
     },
     "execution_count": 17,
     "metadata": {},
     "output_type": "execute_result"
    }
   ],
   "source": [
    "new_data.cigarettes_per_day.mean()"
   ]
  },
  {
   "cell_type": "code",
   "execution_count": 18,
   "metadata": {
    "collapsed": false
   },
   "outputs": [
    {
     "data": {
      "text/plain": [
       "2.1793644391905977"
      ]
     },
     "execution_count": 18,
     "metadata": {},
     "output_type": "execute_result"
    }
   ],
   "source": [
    "new_data[new_data.target==\"Normal\"].cigarettes_per_day.mean()"
   ]
  },
  {
   "cell_type": "code",
   "execution_count": 19,
   "metadata": {
    "collapsed": false
   },
   "outputs": [
    {
     "data": {
      "text/plain": [
       "1.9753993115916817"
      ]
     },
     "execution_count": 19,
     "metadata": {},
     "output_type": "execute_result"
    }
   ],
   "source": [
    "new_data[new_data.target!=\"Normal\"].cigarettes_per_day.mean()"
   ]
  },
  {
   "cell_type": "code",
   "execution_count": 20,
   "metadata": {
    "collapsed": true
   },
   "outputs": [],
   "source": [
    "# This doesn't make any sense"
   ]
  },
  {
   "cell_type": "markdown",
   "metadata": {},
   "source": [
    "#### Gender"
   ]
  },
  {
   "cell_type": "code",
   "execution_count": 21,
   "metadata": {
    "collapsed": false
   },
   "outputs": [
    {
     "data": {
      "text/html": [
       "<div>\n",
       "<style>\n",
       "    .dataframe thead tr:only-child th {\n",
       "        text-align: right;\n",
       "    }\n",
       "\n",
       "    .dataframe thead th {\n",
       "        text-align: left;\n",
       "    }\n",
       "\n",
       "    .dataframe tbody tr th {\n",
       "        vertical-align: top;\n",
       "    }\n",
       "</style>\n",
       "<table border=\"1\" class=\"dataframe\">\n",
       "  <thead>\n",
       "    <tr style=\"text-align: right;\">\n",
       "      <th>target</th>\n",
       "      <th>Normal</th>\n",
       "      <th>TCGA-LUAD</th>\n",
       "      <th>TCGA-LUSC</th>\n",
       "    </tr>\n",
       "    <tr>\n",
       "      <th>gender</th>\n",
       "      <th></th>\n",
       "      <th></th>\n",
       "      <th></th>\n",
       "    </tr>\n",
       "  </thead>\n",
       "  <tbody>\n",
       "    <tr>\n",
       "      <th>female</th>\n",
       "      <td>252</td>\n",
       "      <td>445</td>\n",
       "      <td>195</td>\n",
       "    </tr>\n",
       "    <tr>\n",
       "      <th>male</th>\n",
       "      <td>339</td>\n",
       "      <td>378</td>\n",
       "      <td>558</td>\n",
       "    </tr>\n",
       "  </tbody>\n",
       "</table>\n",
       "</div>"
      ],
      "text/plain": [
       "target  Normal  TCGA-LUAD  TCGA-LUSC\n",
       "gender                              \n",
       "female     252        445        195\n",
       "male       339        378        558"
      ]
     },
     "execution_count": 21,
     "metadata": {},
     "output_type": "execute_result"
    }
   ],
   "source": [
    "pd.crosstab(new_data.gender, new_data.target)"
   ]
  },
  {
   "cell_type": "code",
   "execution_count": 22,
   "metadata": {
    "collapsed": false
   },
   "outputs": [
    {
     "data": {
      "text/html": [
       "<div>\n",
       "<style>\n",
       "    .dataframe thead tr:only-child th {\n",
       "        text-align: right;\n",
       "    }\n",
       "\n",
       "    .dataframe thead th {\n",
       "        text-align: left;\n",
       "    }\n",
       "\n",
       "    .dataframe tbody tr th {\n",
       "        vertical-align: top;\n",
       "    }\n",
       "</style>\n",
       "<table border=\"1\" class=\"dataframe\">\n",
       "  <thead>\n",
       "    <tr style=\"text-align: right;\">\n",
       "      <th>target</th>\n",
       "      <th>Normal</th>\n",
       "      <th>TCGA-LUAD</th>\n",
       "      <th>TCGA-LUSC</th>\n",
       "    </tr>\n",
       "    <tr>\n",
       "      <th>gender</th>\n",
       "      <th></th>\n",
       "      <th></th>\n",
       "      <th></th>\n",
       "    </tr>\n",
       "  </thead>\n",
       "  <tbody>\n",
       "    <tr>\n",
       "      <th>female</th>\n",
       "      <td>0.282511</td>\n",
       "      <td>0.498879</td>\n",
       "      <td>0.218610</td>\n",
       "    </tr>\n",
       "    <tr>\n",
       "      <th>male</th>\n",
       "      <td>0.265882</td>\n",
       "      <td>0.296471</td>\n",
       "      <td>0.437647</td>\n",
       "    </tr>\n",
       "  </tbody>\n",
       "</table>\n",
       "</div>"
      ],
      "text/plain": [
       "target    Normal  TCGA-LUAD  TCGA-LUSC\n",
       "gender                                \n",
       "female  0.282511   0.498879   0.218610\n",
       "male    0.265882   0.296471   0.437647"
      ]
     },
     "execution_count": 22,
     "metadata": {},
     "output_type": "execute_result"
    }
   ],
   "source": [
    "pd.crosstab(new_data.gender, new_data.target,).apply(lambda r: r/r.sum(), axis=1)"
   ]
  },
  {
   "cell_type": "code",
   "execution_count": 23,
   "metadata": {
    "collapsed": false
   },
   "outputs": [
    {
     "data": {
      "text/html": [
       "<div>\n",
       "<style>\n",
       "    .dataframe thead tr:only-child th {\n",
       "        text-align: right;\n",
       "    }\n",
       "\n",
       "    .dataframe thead th {\n",
       "        text-align: left;\n",
       "    }\n",
       "\n",
       "    .dataframe tbody tr th {\n",
       "        vertical-align: top;\n",
       "    }\n",
       "</style>\n",
       "<table border=\"1\" class=\"dataframe\">\n",
       "  <thead>\n",
       "    <tr style=\"text-align: right;\">\n",
       "      <th>target</th>\n",
       "      <th>Normal</th>\n",
       "      <th>TCGA-LUAD</th>\n",
       "      <th>TCGA-LUSC</th>\n",
       "    </tr>\n",
       "    <tr>\n",
       "      <th>gender</th>\n",
       "      <th></th>\n",
       "      <th></th>\n",
       "      <th></th>\n",
       "    </tr>\n",
       "  </thead>\n",
       "  <tbody>\n",
       "    <tr>\n",
       "      <th>female</th>\n",
       "      <td>0.426396</td>\n",
       "      <td>0.540705</td>\n",
       "      <td>0.258964</td>\n",
       "    </tr>\n",
       "    <tr>\n",
       "      <th>male</th>\n",
       "      <td>0.573604</td>\n",
       "      <td>0.459295</td>\n",
       "      <td>0.741036</td>\n",
       "    </tr>\n",
       "  </tbody>\n",
       "</table>\n",
       "</div>"
      ],
      "text/plain": [
       "target    Normal  TCGA-LUAD  TCGA-LUSC\n",
       "gender                                \n",
       "female  0.426396   0.540705   0.258964\n",
       "male    0.573604   0.459295   0.741036"
      ]
     },
     "execution_count": 23,
     "metadata": {},
     "output_type": "execute_result"
    }
   ],
   "source": [
    "pd.crosstab(new_data.gender, new_data.target,).apply(lambda r: r/r.sum(), axis=0)"
   ]
  },
  {
   "cell_type": "markdown",
   "metadata": {},
   "source": [
    "#### Race\n",
    "\n",
    "Don't think we whould use this"
   ]
  },
  {
   "cell_type": "code",
   "execution_count": 24,
   "metadata": {
    "collapsed": false
   },
   "outputs": [
    {
     "data": {
      "text/plain": [
       "white                               1557\n",
       "not reported                         405\n",
       "black or african american            168\n",
       "asian                                 33\n",
       "american indian or alaska native       4\n",
       "Name: race, dtype: int64"
      ]
     },
     "execution_count": 24,
     "metadata": {},
     "output_type": "execute_result"
    }
   ],
   "source": [
    "new_data.race.value_counts()"
   ]
  },
  {
   "cell_type": "code",
   "execution_count": 25,
   "metadata": {
    "collapsed": false
   },
   "outputs": [
    {
     "data": {
      "text/html": [
       "<div>\n",
       "<style>\n",
       "    .dataframe thead tr:only-child th {\n",
       "        text-align: right;\n",
       "    }\n",
       "\n",
       "    .dataframe thead th {\n",
       "        text-align: left;\n",
       "    }\n",
       "\n",
       "    .dataframe tbody tr th {\n",
       "        vertical-align: top;\n",
       "    }\n",
       "</style>\n",
       "<table border=\"1\" class=\"dataframe\">\n",
       "  <thead>\n",
       "    <tr style=\"text-align: right;\">\n",
       "      <th>target</th>\n",
       "      <th>Normal</th>\n",
       "      <th>TCGA-LUAD</th>\n",
       "      <th>TCGA-LUSC</th>\n",
       "    </tr>\n",
       "    <tr>\n",
       "      <th>race</th>\n",
       "      <th></th>\n",
       "      <th></th>\n",
       "      <th></th>\n",
       "    </tr>\n",
       "  </thead>\n",
       "  <tbody>\n",
       "    <tr>\n",
       "      <th>american indian or alaska native</th>\n",
       "      <td>2</td>\n",
       "      <td>2</td>\n",
       "      <td>0</td>\n",
       "    </tr>\n",
       "    <tr>\n",
       "      <th>asian</th>\n",
       "      <td>7</td>\n",
       "      <td>12</td>\n",
       "      <td>14</td>\n",
       "    </tr>\n",
       "    <tr>\n",
       "      <th>black or african american</th>\n",
       "      <td>55</td>\n",
       "      <td>72</td>\n",
       "      <td>41</td>\n",
       "    </tr>\n",
       "    <tr>\n",
       "      <th>not reported</th>\n",
       "      <td>113</td>\n",
       "      <td>114</td>\n",
       "      <td>178</td>\n",
       "    </tr>\n",
       "    <tr>\n",
       "      <th>white</th>\n",
       "      <td>414</td>\n",
       "      <td>623</td>\n",
       "      <td>520</td>\n",
       "    </tr>\n",
       "  </tbody>\n",
       "</table>\n",
       "</div>"
      ],
      "text/plain": [
       "target                            Normal  TCGA-LUAD  TCGA-LUSC\n",
       "race                                                          \n",
       "american indian or alaska native       2          2          0\n",
       "asian                                  7         12         14\n",
       "black or african american             55         72         41\n",
       "not reported                         113        114        178\n",
       "white                                414        623        520"
      ]
     },
     "execution_count": 25,
     "metadata": {},
     "output_type": "execute_result"
    }
   ],
   "source": [
    "pd.crosstab(new_data.race, new_data.target)"
   ]
  },
  {
   "cell_type": "code",
   "execution_count": 26,
   "metadata": {
    "collapsed": false
   },
   "outputs": [
    {
     "data": {
      "text/html": [
       "<div>\n",
       "<style>\n",
       "    .dataframe thead tr:only-child th {\n",
       "        text-align: right;\n",
       "    }\n",
       "\n",
       "    .dataframe thead th {\n",
       "        text-align: left;\n",
       "    }\n",
       "\n",
       "    .dataframe tbody tr th {\n",
       "        vertical-align: top;\n",
       "    }\n",
       "</style>\n",
       "<table border=\"1\" class=\"dataframe\">\n",
       "  <thead>\n",
       "    <tr style=\"text-align: right;\">\n",
       "      <th>target</th>\n",
       "      <th>Normal</th>\n",
       "      <th>TCGA-LUAD</th>\n",
       "      <th>TCGA-LUSC</th>\n",
       "    </tr>\n",
       "    <tr>\n",
       "      <th>race</th>\n",
       "      <th></th>\n",
       "      <th></th>\n",
       "      <th></th>\n",
       "    </tr>\n",
       "  </thead>\n",
       "  <tbody>\n",
       "    <tr>\n",
       "      <th>american indian or alaska native</th>\n",
       "      <td>0.500000</td>\n",
       "      <td>0.500000</td>\n",
       "      <td>0.000000</td>\n",
       "    </tr>\n",
       "    <tr>\n",
       "      <th>asian</th>\n",
       "      <td>0.212121</td>\n",
       "      <td>0.363636</td>\n",
       "      <td>0.424242</td>\n",
       "    </tr>\n",
       "    <tr>\n",
       "      <th>black or african american</th>\n",
       "      <td>0.327381</td>\n",
       "      <td>0.428571</td>\n",
       "      <td>0.244048</td>\n",
       "    </tr>\n",
       "    <tr>\n",
       "      <th>not reported</th>\n",
       "      <td>0.279012</td>\n",
       "      <td>0.281481</td>\n",
       "      <td>0.439506</td>\n",
       "    </tr>\n",
       "    <tr>\n",
       "      <th>white</th>\n",
       "      <td>0.265896</td>\n",
       "      <td>0.400128</td>\n",
       "      <td>0.333976</td>\n",
       "    </tr>\n",
       "  </tbody>\n",
       "</table>\n",
       "</div>"
      ],
      "text/plain": [
       "target                              Normal  TCGA-LUAD  TCGA-LUSC\n",
       "race                                                            \n",
       "american indian or alaska native  0.500000   0.500000   0.000000\n",
       "asian                             0.212121   0.363636   0.424242\n",
       "black or african american         0.327381   0.428571   0.244048\n",
       "not reported                      0.279012   0.281481   0.439506\n",
       "white                             0.265896   0.400128   0.333976"
      ]
     },
     "execution_count": 26,
     "metadata": {},
     "output_type": "execute_result"
    }
   ],
   "source": [
    "pd.crosstab(new_data.race, new_data.target,).apply(lambda r: r/r.sum(), axis=1)"
   ]
  },
  {
   "cell_type": "code",
   "execution_count": 27,
   "metadata": {
    "collapsed": false
   },
   "outputs": [
    {
     "data": {
      "text/html": [
       "<div>\n",
       "<style>\n",
       "    .dataframe thead tr:only-child th {\n",
       "        text-align: right;\n",
       "    }\n",
       "\n",
       "    .dataframe thead th {\n",
       "        text-align: left;\n",
       "    }\n",
       "\n",
       "    .dataframe tbody tr th {\n",
       "        vertical-align: top;\n",
       "    }\n",
       "</style>\n",
       "<table border=\"1\" class=\"dataframe\">\n",
       "  <thead>\n",
       "    <tr style=\"text-align: right;\">\n",
       "      <th>target</th>\n",
       "      <th>Normal</th>\n",
       "      <th>TCGA-LUAD</th>\n",
       "      <th>TCGA-LUSC</th>\n",
       "    </tr>\n",
       "    <tr>\n",
       "      <th>race</th>\n",
       "      <th></th>\n",
       "      <th></th>\n",
       "      <th></th>\n",
       "    </tr>\n",
       "  </thead>\n",
       "  <tbody>\n",
       "    <tr>\n",
       "      <th>american indian or alaska native</th>\n",
       "      <td>0.003384</td>\n",
       "      <td>0.002430</td>\n",
       "      <td>0.000000</td>\n",
       "    </tr>\n",
       "    <tr>\n",
       "      <th>asian</th>\n",
       "      <td>0.011844</td>\n",
       "      <td>0.014581</td>\n",
       "      <td>0.018592</td>\n",
       "    </tr>\n",
       "    <tr>\n",
       "      <th>black or african american</th>\n",
       "      <td>0.093063</td>\n",
       "      <td>0.087485</td>\n",
       "      <td>0.054449</td>\n",
       "    </tr>\n",
       "    <tr>\n",
       "      <th>not reported</th>\n",
       "      <td>0.191201</td>\n",
       "      <td>0.138518</td>\n",
       "      <td>0.236388</td>\n",
       "    </tr>\n",
       "    <tr>\n",
       "      <th>white</th>\n",
       "      <td>0.700508</td>\n",
       "      <td>0.756987</td>\n",
       "      <td>0.690571</td>\n",
       "    </tr>\n",
       "  </tbody>\n",
       "</table>\n",
       "</div>"
      ],
      "text/plain": [
       "target                              Normal  TCGA-LUAD  TCGA-LUSC\n",
       "race                                                            \n",
       "american indian or alaska native  0.003384   0.002430   0.000000\n",
       "asian                             0.011844   0.014581   0.018592\n",
       "black or african american         0.093063   0.087485   0.054449\n",
       "not reported                      0.191201   0.138518   0.236388\n",
       "white                             0.700508   0.756987   0.690571"
      ]
     },
     "execution_count": 27,
     "metadata": {},
     "output_type": "execute_result"
    }
   ],
   "source": [
    "pd.crosstab(new_data.race, new_data.target,).apply(lambda r: r/r.sum(), axis=0)"
   ]
  },
  {
   "cell_type": "markdown",
   "metadata": {},
   "source": [
    "#### Age at diagnosis\n",
    "\n",
    "Exactly the same as 'days_to_birth'"
   ]
  },
  {
   "cell_type": "code",
   "execution_count": 28,
   "metadata": {
    "collapsed": false
   },
   "outputs": [
    {
     "data": {
      "text/plain": [
       "66.648313939449309"
      ]
     },
     "execution_count": 28,
     "metadata": {},
     "output_type": "execute_result"
    }
   ],
   "source": [
    "new_data.age_at_diagnosis.mean() / 365"
   ]
  },
  {
   "cell_type": "code",
   "execution_count": 29,
   "metadata": {
    "collapsed": false
   },
   "outputs": [
    {
     "data": {
      "text/plain": [
       "90.06027397260274"
      ]
     },
     "execution_count": 29,
     "metadata": {},
     "output_type": "execute_result"
    }
   ],
   "source": [
    "new_data.age_at_diagnosis.max() / 365"
   ]
  },
  {
   "cell_type": "code",
   "execution_count": 30,
   "metadata": {
    "collapsed": false
   },
   "outputs": [
    {
     "data": {
      "text/plain": [
       "33.367123287671234"
      ]
     },
     "execution_count": 30,
     "metadata": {},
     "output_type": "execute_result"
    }
   ],
   "source": [
    "new_data.age_at_diagnosis.min() / 365"
   ]
  },
  {
   "cell_type": "code",
   "execution_count": 31,
   "metadata": {
    "collapsed": false
   },
   "outputs": [
    {
     "data": {
      "text/plain": [
       "68"
      ]
     },
     "execution_count": 31,
     "metadata": {},
     "output_type": "execute_result"
    }
   ],
   "source": [
    "new_data.age_at_diagnosis.isnull().sum()"
   ]
  },
  {
   "cell_type": "code",
   "execution_count": 32,
   "metadata": {
    "collapsed": false
   },
   "outputs": [
    {
     "data": {
      "text/plain": [
       "<matplotlib.text.Text at 0x11a2f99e8>"
      ]
     },
     "execution_count": 32,
     "metadata": {},
     "output_type": "execute_result"
    },
    {
     "data": {
      "image/png": "[encoded data removed]",
      "text/plain": [
       "<matplotlib.figure.Figure at 0x11a2212e8>"
      ]
     },
     "metadata": {},
     "output_type": "display_data"
    }
   ],
   "source": [
    "plt.figure(figsize=(8,5))\n",
    "plt.hist(new_data.age_at_diagnosis[new_data.age_at_diagnosis.isnull() == False] / 365, bins=30)\n",
    "plt.title(\"Age at diagnosis\")"
   ]
  },
  {
   "cell_type": "markdown",
   "metadata": {},
   "source": [
    "#### Trials to test speed"
   ]
  },
  {
   "cell_type": "code",
   "execution_count": 33,
   "metadata": {
    "collapsed": true
   },
   "outputs": [],
   "source": [
    "new_data = new_data[['file_name', 'gender', 'age_at_diagnosis', 'cigarettes_per_day']]"
   ]
  },
  {
   "cell_type": "code",
   "execution_count": 34,
   "metadata": {
    "collapsed": false
   },
   "outputs": [],
   "source": [
    "list_ids = new_data.file_name.tolist()"
   ]
  },
  {
   "cell_type": "code",
   "execution_count": 35,
   "metadata": {
    "collapsed": false
   },
   "outputs": [],
   "source": [
    "gender = new_data.gender.tolist()\n",
    "age_at_diagnosis = new_data.age_at_diagnosis.tolist()\n",
    "cigarettes_per_day = new_data.cigarettes_per_day.tolist()"
   ]
  },
  {
   "cell_type": "code",
   "execution_count": 36,
   "metadata": {
    "collapsed": false
   },
   "outputs": [
    {
     "name": "stdout",
     "output_type": "stream",
     "text": [
      "The slowest run took 16.16 times longer than the fastest. This could mean that an intermediate result is being cached.\n",
      "10000000 loops, best of 3: 94.3 ns per loop\n"
     ]
    }
   ],
   "source": [
    "%timeit gender[list_ids == 'TCGA-50-5939-01A-01-BS1.947c5ed1-ea28-4100-b3c6-3d7c06b856ff.svs']"
   ]
  },
  {
   "cell_type": "code",
   "execution_count": 37,
   "metadata": {
    "collapsed": false
   },
   "outputs": [
    {
     "name": "stdout",
     "output_type": "stream",
     "text": [
      "The slowest run took 13.41 times longer than the fastest. This could mean that an intermediate result is being cached.\n",
      "10000000 loops, best of 3: 90.2 ns per loop\n"
     ]
    }
   ],
   "source": [
    "%timeit age_at_diagnosis[list_ids == 'TCGA-50-5939-01A-01-BS1.947c5ed1-ea28-4100-b3c6-3d7c06b856ff.svs']"
   ]
  },
  {
   "cell_type": "code",
   "execution_count": 38,
   "metadata": {
    "collapsed": false
   },
   "outputs": [
    {
     "name": "stdout",
     "output_type": "stream",
     "text": [
      "The slowest run took 12.55 times longer than the fastest. This could mean that an intermediate result is being cached.\n",
      "10000000 loops, best of 3: 90.6 ns per loop\n"
     ]
    }
   ],
   "source": [
    "%timeit cigarettes_per_day[list_ids == 'TCGA-50-5939-01A-01-BS1.947c5ed1-ea28-4100-b3c6-3d7c06b856ff.svs']"
   ]
  },
  {
   "cell_type": "code",
   "execution_count": 39,
   "metadata": {
    "collapsed": false
   },
   "outputs": [
    {
     "name": "stdout",
     "output_type": "stream",
     "text": [
      "1000 loops, best of 3: 619 µs per loop\n"
     ]
    }
   ],
   "source": [
    "%timeit new_data.gender[new_data.file_name == 'TCGA-50-5939-01A-01-BS1.947c5ed1-ea28-4100-b3c6-3d7c06b856ff.svs'].values[0]"
   ]
  },
  {
   "cell_type": "code",
   "execution_count": 40,
   "metadata": {
    "collapsed": false
   },
   "outputs": [],
   "source": [
    "# Generate dictionary with what intrests us\n",
    "new_data.set_index(new_data.file_name, inplace=True)"
   ]
  },
  {
   "cell_type": "code",
   "execution_count": 41,
   "metadata": {
    "collapsed": false
   },
   "outputs": [],
   "source": [
    "new_data = new_data[['gender', 'age_at_diagnosis', 'cigarettes_per_day']]"
   ]
  },
  {
   "cell_type": "code",
   "execution_count": 42,
   "metadata": {
    "collapsed": false
   },
   "outputs": [],
   "source": [
    "new_data_dict = new_data.to_dict(orient=\"index\")"
   ]
  },
  {
   "cell_type": "code",
   "execution_count": 44,
   "metadata": {
    "collapsed": false
   },
   "outputs": [
    {
     "name": "stdout",
     "output_type": "stream",
     "text": [
      "The slowest run took 26.43 times longer than the fastest. This could mean that an intermediate result is being cached.\n",
      "10000000 loops, best of 3: 53.4 ns per loop\n"
     ]
    }
   ],
   "source": [
    "%timeit new_data_dict['TCGA-50-5939-01A-01-BS1.947c5ed1-ea28-4100-b3c6-3d7c06b856ff.svs']"
   ]
  },
  {
   "cell_type": "code",
   "execution_count": 49,
   "metadata": {
    "collapsed": false
   },
   "outputs": [],
   "source": [
    "import pickle\n",
    "dictionary = pickle.load(open(\"/Users/eduardofierro/Google Drive/TercerSemetre/Capstone/Charrrrtreuse/JsonParser/LungJsonData.p\", \"rb\"))"
   ]
  },
  {
   "cell_type": "code",
   "execution_count": 51,
   "metadata": {
    "collapsed": false
   },
   "outputs": [
    {
     "data": {
      "text/plain": [
       "0.821917808219178"
      ]
     },
     "execution_count": 51,
     "metadata": {},
     "output_type": "execute_result"
    }
   ],
   "source": [
    "dictionary['TCGA-50-5939-01A-01-BS1.947c5ed1-ea28-4100-b3c6-3d7c06b856ff.svs']"
   ]
  },
  {
   "cell_type": "code",
   "execution_count": null,
   "metadata": {
    "collapsed": true
   },
   "outputs": [],
   "source": []
  }
 ],
 "metadata": {
  "anaconda-cloud": {},
  "kernelspec": {
   "display_name": "Python [conda root]",
   "language": "python",
   "name": "conda-root-py"
  },
  "language_info": {
   "codemirror_mode": {
    "name": "ipython",
    "version": 3
   },
   "file_extension": ".py",
   "mimetype": "text/x-python",
   "name": "python",
   "nbconvert_exporter": "python",
   "pygments_lexer": "ipython3",
   "version": "3.5.2"
  }
 },
 "nbformat": 4,
 "nbformat_minor": 1
}
